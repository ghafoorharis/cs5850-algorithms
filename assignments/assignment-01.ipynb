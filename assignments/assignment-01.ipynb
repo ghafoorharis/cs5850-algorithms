{
 "cells": [
  {
   "cell_type": "markdown",
   "metadata": {},
   "source": [
    "# Question # 02"
   ]
  },
  {
   "cell_type": "code",
   "execution_count": 1,
   "metadata": {},
   "outputs": [
    {
     "name": "stdout",
     "output_type": "stream",
     "text": [
      "The order of size of disks is from smallest to largest such that the smallest disk is at the top and is numbered 1.\n",
      "Moves for n=3:\n",
      "-------------\n",
      "Move disk 1 from A to B\n",
      "Move disk 1 from B to C\n",
      "Move disk 2 from A to C\n",
      "Move disk 1 from C to A\n",
      "Move disk 1 from A to B\n",
      "Move disk 2 from C to B\n",
      "Move disk 1 from A to C\n",
      "Move disk 1 from C to B\n",
      "Move disk 3 from A to B\n",
      "Move disk 1 from B to C\n",
      "Move disk 1 from C to A\n",
      "Move disk 2 from B to A\n",
      "Move disk 1 from A to B\n",
      "Move disk 1 from B to C\n",
      "Move disk 2 from A to C\n",
      "Move disk 1 from B to A\n",
      "Move disk 1 from A to C\n",
      "Move disk 3 from B to C\n",
      "Move disk 1 from A to C\n",
      "Move disk 1 from C to B\n",
      "Move disk 2 from A to B\n",
      "Move disk 1 from B to A\n",
      "Move disk 1 from A to C\n",
      "Move disk 2 from B to C\n",
      "Move disk 1 from A to B\n",
      "Move disk 1 from B to C\n",
      "Total moves: 26\n"
     ]
    }
   ],
   "source": [
    "def restricted_tower_of_hanoi(n: int, source: str, target: str, auxiliary: str) -> int:\n",
    "    \"\"\" Function to solve the Tower of Hanoi puzzle with restricted moves.\n",
    "    \n",
    "    Args:\n",
    "        n (int): Number of disks\n",
    "        source (str): Source peg\n",
    "        target (str): Target peg\n",
    "        auxiliary (str): Auxiliary peg\n",
    "    \n",
    "    Returns:\n",
    "        int: Total number of moves\n",
    "    \"\"\"\n",
    "    moves = 0  # Initialize move count\n",
    "\n",
    "    # Base case: If there's only one disk\n",
    "    if n == 1:\n",
    "        print(f\"Move disk 1 from {source} to {auxiliary}\")  # Move to auxiliary first\n",
    "        moves += 1  # Increment move count\n",
    "        print(f\"Move disk 1 from {auxiliary} to {target}\")  # Then to target\n",
    "        moves += 1  # Increment move count\n",
    "        return moves\n",
    "\n",
    "    # Move top n-1 disks from source to auxiliary through target\n",
    "    moves += restricted_tower_of_hanoi(n - 1, source, auxiliary, target)\n",
    "\n",
    "    # Move nth disk from source to auxiliary\n",
    "    print(f\"Move disk {n} from {source} to {auxiliary}\")\n",
    "    moves += 1  # Increment move count\n",
    "\n",
    "    # Move n-1 disks from auxiliary to target through source\n",
    "    moves += restricted_tower_of_hanoi(n - 1, auxiliary, target, source)\n",
    "\n",
    "    # Move nth disk from auxiliary to target\n",
    "    print(f\"Move disk {n} from {auxiliary} to {target}\")\n",
    "    moves += 1  # Increment move count\n",
    "\n",
    "    # Move n-1 disks from source to target through auxiliary\n",
    "    moves += restricted_tower_of_hanoi(n - 1, source, target, auxiliary)\n",
    "\n",
    "    return moves  # Return the total move count\n",
    "\n",
    "# Example usage for n = 3\n",
    "n = 3\n",
    "print(\"The order of size of disks is from smallest to largest such that the smallest disk is at the top and is numbered 1.\")\n",
    "print(f\"Moves for n={n}:\")\n",
    "print(\"-------------\")\n",
    "total_moves = restricted_tower_of_hanoi(n, 'A', 'C', 'B')\n",
    "print(f\"Total moves: {total_moves}\")\n"
   ]
  },
  {
   "cell_type": "markdown",
   "metadata": {},
   "source": [
    "# Question # 03"
   ]
  },
  {
   "cell_type": "code",
   "execution_count": 2,
   "metadata": {},
   "outputs": [],
   "source": [
    "def selection(n: int, k: int) -> int:\n",
    "    \"\"\"\n",
    "    Calculate the binomial coefficient C(n, k) using recursion.\n",
    "\n",
    "    Args:\n",
    "        n (int): Number of possible items to choose from\n",
    "        k (int): Number of items to choose\n",
    "\n",
    "    Returns:\n",
    "        ans : A total number of ways to choose k items from n items\n",
    "    \"\"\"\n",
    "    # Base case: If k == 0 or k == n, return 1\n",
    "    if k == 0 or k == n:\n",
    "        return 1\n",
    "    # Recursive case: Calculate C(n-1, k) + C(n-1, k-1)\n",
    "    return selection(n-1, k) + selection(n-1, k-1)"
   ]
  },
  {
   "cell_type": "code",
   "execution_count": 3,
   "metadata": {},
   "outputs": [
    {
     "name": "stdout",
     "output_type": "stream",
     "text": [
      "C(49, 6) = 13983816\n"
     ]
    }
   ],
   "source": [
    "# Example: Calculate C(49, 6)\n",
    "n = 49\n",
    "k = 6\n",
    "result = selection(n, k)\n",
    "print(f\"C({n}, {k}) = {result}\")"
   ]
  },
  {
   "cell_type": "markdown",
   "metadata": {},
   "source": [
    "# Question # 4"
   ]
  },
  {
   "cell_type": "code",
   "execution_count": 4,
   "metadata": {},
   "outputs": [],
   "source": [
    "def squareRoot(num :float, ans :float, tol: float) -> float:\n",
    "    \"\"\" Function to compute the square root of a number using the Newton-Raphson method.\n",
    "\n",
    "    Args:\n",
    "        num (float): The number for which the square root is to be computed.\n",
    "        ans (float): The current estimate of the square root.\n",
    "        tol (float): The tolerance level for the estimate.\n",
    "\n",
    "    Returns:\n",
    "        float : The square root of the number.\n",
    "    \"\"\"\n",
    "    # Base case: check if the current estimate is within the tolerance\n",
    "    if abs(ans**2 - num) <= tol:\n",
    "        return ans\n",
    "    # Recursive case: improve the estimate using the Newton-Raphson method\n",
    "    # the new estimate is given by (ans^2 + num) / (2 * ans)\n",
    "    else:\n",
    "        ans_k_plus_1 = (ans**2 + num) / (2 * ans)\n",
    "        return squareRoot(\n",
    "                        num = num,\n",
    "                        ans = ans_k_plus_1,\n",
    "                        tol = tol)\n",
    "    \n"
   ]
  },
  {
   "cell_type": "code",
   "execution_count": 5,
   "metadata": {},
   "outputs": [
    {
     "name": "stdout",
     "output_type": "stream",
     "text": [
      "The square root of 100 is approximately: 10.000000000139897\n"
     ]
    }
   ],
   "source": [
    "# Example usage:\n",
    "number = 100\n",
    "initial_guess = 1.0  # Starting estimate\n",
    "tolerance = 0.001   # Define the tolerance level\n",
    "result = squareRoot(number, initial_guess, tolerance)\n",
    "print(f\"The square root of {number} is approximately: {result}\")"
   ]
  }
 ],
 "metadata": {
  "kernelspec": {
   "display_name": "test_gpu",
   "language": "python",
   "name": "python3"
  },
  "language_info": {
   "codemirror_mode": {
    "name": "ipython",
    "version": 3
   },
   "file_extension": ".py",
   "mimetype": "text/x-python",
   "name": "python",
   "nbconvert_exporter": "python",
   "pygments_lexer": "ipython3",
   "version": "3.12.3"
  }
 },
 "nbformat": 4,
 "nbformat_minor": 2
}
